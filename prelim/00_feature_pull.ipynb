{
 "cells": [
  {
   "cell_type": "markdown",
   "id": "e73609cc-e86f-40f9-aab0-ccf373078259",
   "metadata": {},
   "source": [
    "# 00: Feature Pull from Spotify"
   ]
  },
  {
   "cell_type": "markdown",
   "id": "42274902-8ad4-46ef-9e02-2e60d1dafde3",
   "metadata": {},
   "source": [
    "The starting point for this project, naturally, is extracting my music from Spotify via the Spotify API. Ultimately, I want to have a UI where I can input either a playlist, or a collection (2+) of artists, from which the graph will expand outwards from. So, I need some to establish the pipeline of grabbing that information, and also just to grab starter data. "
   ]
  },
  {
   "cell_type": "code",
   "execution_count": 3,
   "id": "f7c3799b-76d8-4764-8455-037c93ade61a",
   "metadata": {},
   "outputs": [],
   "source": [
    "import pandas as pd\n",
    "import numpy as np\n",
    "import json\n",
    "import spotipy\n",
    "import re\n",
    "import os\n",
    "from dotenv import load_dotenv\n",
    "from spotipy.oauth2 import SpotifyClientCredentials"
   ]
  },
  {
   "cell_type": "markdown",
   "id": "170dd975-8d12-4633-87c9-968e8c1ecb9f",
   "metadata": {},
   "source": [
    "### Set up"
   ]
  },
  {
   "cell_type": "code",
   "execution_count": 4,
   "id": "85ac3141-7904-4e7f-8675-d98269807921",
   "metadata": {},
   "outputs": [
    {
     "data": {
      "text/plain": [
       "True"
      ]
     },
     "execution_count": 4,
     "metadata": {},
     "output_type": "execute_result"
    }
   ],
   "source": [
    "load_dotenv()"
   ]
  },
  {
   "cell_type": "code",
   "execution_count": 5,
   "id": "20800dcb-8d30-4ca3-85a8-0a7563a7f0dd",
   "metadata": {},
   "outputs": [],
   "source": [
    "CLIENT_ID = os.environ.get(\"SPOTIFY_CLIENT_ID\")\n",
    "CLIENT_SECRET = os.environ.get(\"SPOTIFY_CLIENT_SECRET\")"
   ]
  },
  {
   "cell_type": "code",
   "execution_count": 6,
   "id": "a3952500-0f5b-4e03-8bf0-5fe25edac06d",
   "metadata": {},
   "outputs": [],
   "source": [
    "auth_manager = SpotifyClientCredentials(client_id=CLIENT_ID,\n",
    "                                        client_secret=CLIENT_SECRET)\n",
    "sp = spotipy.Spotify(auth_manager=auth_manager)"
   ]
  },
  {
   "cell_type": "markdown",
   "id": "be012b6b-3581-43e3-bdb3-e59aa86c91eb",
   "metadata": {},
   "source": [
    "### Test Playlist"
   ]
  },
  {
   "cell_type": "code",
   "execution_count": 10,
   "id": "fc3d9f6e-3d3b-4d1c-a81f-0b7982c536d8",
   "metadata": {},
   "outputs": [],
   "source": [
    "hardnheavy_url = \"https://open.spotify.com/playlist/142oZDOc1za2dkUwyonA1P?si=9477d01b58b34669\""
   ]
  },
  {
   "cell_type": "code",
   "execution_count": 65,
   "id": "5afa0a9b-087b-4cc9-a05e-3025ec9650f9",
   "metadata": {
    "scrolled": true
   },
   "outputs": [
    {
     "data": {
      "text/plain": [
       "[{'external_urls': {'spotify': 'https://open.spotify.com/artist/3Ri4H12KFyu98LMjSoij5V'},\n",
       "  'href': 'https://api.spotify.com/v1/artists/3Ri4H12KFyu98LMjSoij5V',\n",
       "  'id': '3Ri4H12KFyu98LMjSoij5V',\n",
       "  'name': 'Bad Omens',\n",
       "  'type': 'artist',\n",
       "  'uri': 'spotify:artist:3Ri4H12KFyu98LMjSoij5V'},\n",
       " {'external_urls': {'spotify': 'https://open.spotify.com/artist/3Ri4H12KFyu98LMjSoij5V'},\n",
       "  'href': 'https://api.spotify.com/v1/artists/3Ri4H12KFyu98LMjSoij5V',\n",
       "  'id': '3Ri4H12KFyu98LMjSoij5V',\n",
       "  'name': 'Bad Omens',\n",
       "  'type': 'artist',\n",
       "  'uri': 'spotify:artist:3Ri4H12KFyu98LMjSoij5V'},\n",
       " {'external_urls': {'spotify': 'https://open.spotify.com/artist/3Ri4H12KFyu98LMjSoij5V'},\n",
       "  'href': 'https://api.spotify.com/v1/artists/3Ri4H12KFyu98LMjSoij5V',\n",
       "  'id': '3Ri4H12KFyu98LMjSoij5V',\n",
       "  'name': 'Bad Omens',\n",
       "  'type': 'artist',\n",
       "  'uri': 'spotify:artist:3Ri4H12KFyu98LMjSoij5V'},\n",
       " {'external_urls': {'spotify': 'https://open.spotify.com/artist/3Ri4H12KFyu98LMjSoij5V'},\n",
       "  'href': 'https://api.spotify.com/v1/artists/3Ri4H12KFyu98LMjSoij5V',\n",
       "  'id': '3Ri4H12KFyu98LMjSoij5V',\n",
       "  'name': 'Bad Omens',\n",
       "  'type': 'artist',\n",
       "  'uri': 'spotify:artist:3Ri4H12KFyu98LMjSoij5V'},\n",
       " {'external_urls': {'spotify': 'https://open.spotify.com/artist/3Ri4H12KFyu98LMjSoij5V'},\n",
       "  'href': 'https://api.spotify.com/v1/artists/3Ri4H12KFyu98LMjSoij5V',\n",
       "  'id': '3Ri4H12KFyu98LMjSoij5V',\n",
       "  'name': 'Bad Omens',\n",
       "  'type': 'artist',\n",
       "  'uri': 'spotify:artist:3Ri4H12KFyu98LMjSoij5V'}]"
      ]
     },
     "execution_count": 65,
     "metadata": {},
     "output_type": "execute_result"
    }
   ],
   "source": [
    "# grab artists in my hard n heavy playlist\n",
    "response = sp.playlist_tracks(hardnheavy_url, offset=0)\n",
    "artists = [track[\"track\"][\"artists\"][0] for track in response[\"items\"]]\n",
    "total = response[\"total\"]\n",
    "\n",
    "for offset in range(100, total + 1, 100): \n",
    "\n",
    "    response = sp.playlist_tracks(hardnheavy_url, offset=offset)\n",
    "    artists += [track[\"track\"][\"artists\"][0] for track in response[\"items\"]]\n",
    "\n",
    "artists[:5]"
   ]
  },
  {
   "cell_type": "markdown",
   "id": "e4a98d72-a9ce-4733-ae37-5bff2732834a",
   "metadata": {},
   "source": [
    "Some things to consider about the above - \n",
    "\n",
    "* I am for now just taking the primary artist of each song. Features can also be taken if I want; I can leave it as a toggle for the user when extracting the playlist artists.\n",
    "  * Same thing with weighing artists by the proportion of their songs in the playlist. Leave it as a user option. But for now I will not mind that."
   ]
  },
  {
   "cell_type": "code",
   "execution_count": 66,
   "id": "0316f647-4a6c-4d31-8d7d-b1e0384fa89c",
   "metadata": {},
   "outputs": [
    {
     "data": {
      "text/plain": [
       "(376, 376)"
      ]
     },
     "execution_count": 66,
     "metadata": {},
     "output_type": "execute_result"
    }
   ],
   "source": [
    "total, len(artists)"
   ]
  },
  {
   "cell_type": "code",
   "execution_count": 70,
   "id": "bdd2006e-4ff7-492c-b7f4-6e4e7587211e",
   "metadata": {},
   "outputs": [
    {
     "data": {
      "text/plain": [
       "48"
      ]
     },
     "execution_count": 70,
     "metadata": {},
     "output_type": "execute_result"
    }
   ],
   "source": [
    "artist_names = [artist[\"name\"] for artist in artists]\n",
    "len(set(artist_names))"
   ]
  },
  {
   "cell_type": "code",
   "execution_count": 71,
   "id": "decaa105-ee4c-4221-a08f-d56f792ffecb",
   "metadata": {},
   "outputs": [],
   "source": [
    "artist_uris = [artist[\"uri\"] for artist in artists]"
   ]
  },
  {
   "cell_type": "code",
   "execution_count": 75,
   "id": "e8695608-36e7-43e1-a420-7b3c398f04d5",
   "metadata": {},
   "outputs": [
    {
     "data": {
      "text/plain": [
       "{'external_urls': {'spotify': 'https://open.spotify.com/artist/3Ri4H12KFyu98LMjSoij5V'},\n",
       " 'followers': {'href': None, 'total': 1776121},\n",
       " 'genres': ['metalcore'],\n",
       " 'href': 'https://api.spotify.com/v1/artists/3Ri4H12KFyu98LMjSoij5V',\n",
       " 'id': '3Ri4H12KFyu98LMjSoij5V',\n",
       " 'images': [{'url': 'https://i.scdn.co/image/ab6761610000e5eb3a62c74a31a446406a033926',\n",
       "   'height': 640,\n",
       "   'width': 640},\n",
       "  {'url': 'https://i.scdn.co/image/ab676161000051743a62c74a31a446406a033926',\n",
       "   'height': 320,\n",
       "   'width': 320},\n",
       "  {'url': 'https://i.scdn.co/image/ab6761610000f1783a62c74a31a446406a033926',\n",
       "   'height': 160,\n",
       "   'width': 160}],\n",
       " 'name': 'Bad Omens',\n",
       " 'popularity': 75,\n",
       " 'type': 'artist',\n",
       " 'uri': 'spotify:artist:3Ri4H12KFyu98LMjSoij5V'}"
      ]
     },
     "execution_count": 75,
     "metadata": {},
     "output_type": "execute_result"
    }
   ],
   "source": [
    "sp.artist(artist_uris[0])"
   ]
  },
  {
   "cell_type": "code",
   "execution_count": 78,
   "id": "ecafa8a5-4c2f-49bc-9712-b27b6f242f6c",
   "metadata": {
    "scrolled": true
   },
   "outputs": [
    {
     "data": {
      "text/plain": [
       "dict_keys(['album_type', 'total_tracks', 'available_markets', 'external_urls', 'href', 'id', 'images', 'name', 'release_date', 'release_date_precision', 'type', 'uri', 'artists', 'album_group'])"
      ]
     },
     "execution_count": 78,
     "metadata": {},
     "output_type": "execute_result"
    }
   ],
   "source": [
    "sp.artist_albums(artist_uris[0])[\"items\"][0].keys()"
   ]
  },
  {
   "cell_type": "markdown",
   "id": "5202beaf-3dc4-4c9d-858e-b0d52c737114",
   "metadata": {
    "scrolled": true
   },
   "source": [
    "Really there is not a lot of artist-level information that can be retrieved using the Spotify API. The only general information available is: \n",
    "\n",
    "* number of followers\n",
    "* popularity\n",
    "* genre (has now become far less specific than it used to be; broad genres would be of very little use)\n",
    "  * Regarding more specific genres, Spotify has deprecated lots of endpoints and limited the data retrieved from those still available, and genres were affected as such. Old applications may still be able to use those features, though - note [exportify](https://exportify.net/) is able to grab audio features and more specific genres. Someone built a cli [here](https://github.com/donmerendolo/exportify-cli) that can be used to automate the process. Other APIs I can look into are MusicBrainz, Lastfm, and Discogs; the former two result in user-curated tags and so are not ideal, while the latter has more formal tags but are associated with releases as opposed to artist (so need to be aggregated, which is fine). The thing with all the alternative APIs though is that artists need to be corresponded to those taken from Spotify. Try exportify first."
   ]
  },
  {
   "cell_type": "code",
   "execution_count": null,
   "id": "081c9adf-ab26-4d87-b19d-6076830da560",
   "metadata": {},
   "outputs": [],
   "source": []
  }
 ],
 "metadata": {
  "kernelspec": {
   "display_name": "Python 3 (ipykernel)",
   "language": "python",
   "name": "python3"
  },
  "language_info": {
   "codemirror_mode": {
    "name": "ipython",
    "version": 3
   },
   "file_extension": ".py",
   "mimetype": "text/x-python",
   "name": "python",
   "nbconvert_exporter": "python",
   "pygments_lexer": "ipython3",
   "version": "3.11.5"
  }
 },
 "nbformat": 4,
 "nbformat_minor": 5
}
