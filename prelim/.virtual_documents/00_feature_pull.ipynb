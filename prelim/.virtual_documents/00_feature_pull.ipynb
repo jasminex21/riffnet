





import pandas as pd
import numpy as np
import json
import spotipy
import re
import os
from dotenv import load_dotenv
from spotipy.oauth2 import SpotifyClientCredentials





load_dotenv()


CLIENT_ID = os.environ.get("SPOTIFY_CLIENT_ID")
CLIENT_SECRET = os.environ.get("SPOTIFY_CLIENT_SECRET")


auth_manager = SpotifyClientCredentials(client_id=CLIENT_ID,
                                        client_secret=CLIENT_SECRET)
sp = spotipy.Spotify(auth_manager=auth_manager)





hardnheavy_url = "https://open.spotify.com/playlist/142oZDOc1za2dkUwyonA1P?si=9477d01b58b34669"


# grab artists in my hard n heavy playlist
response = sp.playlist_tracks(hardnheavy_url, offset=0)
artists = [track["track"]["artists"][0] for track in response["items"]]
total = response["total"]

for offset in range(100, total + 1, 100): 

    response = sp.playlist_tracks(hardnheavy_url, offset=offset)
    artists += [track["track"]["artists"][0] for track in response["items"]]

artists[:5]





total, len(artists)


artist_names = [artist["name"] for artist in artists]
len(set(artist_names))


artist_uris = [artist["uri"] for artist in artists]


sp.artist(artist_uris[0])


sp.artist_albums(artist_uris[0])["items"][0].keys()





features = pd.read_csv("hardnheavy_exportify.csv")
features


features.columns


genres = [genre.strip() for ls in features["Genres"] if isinstance(ls, str) for genre in ls.split(",")]
genres


set(genres)


from collections import Counter


genre_counts = Counter(genres)
genre_counts


import matplotlib.pyplot as plt


labels = genre_counts.keys()
sizes = genre_counts.values()

fig, ax = plt.subplots()
ax.pie(sizes, labels=labels, autopct='%1.1f%%', radius=2, textprops={'size': 'smaller'})
plt.show()


features[features["Genres"].astype(str).str.contains("djent")][["Track Name", "Artist Name(s)", "Genres", "Popularity"]]


features[features["Popularity"] <= 30]


import requests
load_dotenv()
TM_API_KEY = os.environ.get("TM_API_KEY")
url = f"https://app.ticketmaster.com/discovery/v2/events.json?apikey={TM_API_KEY}&classificationName=music&keyword=thornhill"
response = requests.get(url)
response


url


events = response.json()["_embedded"]["events"]
events
# aftershock_attractions = events[0]["_embedded"]["attractions"]
# len(aftershock_attractions)
# [att["name"] for att in aftershock_attractions]


events.keys()


aftershock_attractions


events[0]


events[0]["_embedded"]["attractions"]


events[0]


url = f"https://app.ticketmaster.com/discovery/v2/attractions.json?apikey={TM_API_KEY}&classificationName=music&keyword=spiritbox"
response = requests.get(url)
response


response.json()["_embedded"]["attractions"]



