





import pandas as pd
import numpy as np
import json
import spotipy
import re
import os
from dotenv import load_dotenv
from spotipy.oauth2 import SpotifyClientCredentials





load_dotenv()


CLIENT_ID = os.environ.get("SPOTIFY_CLIENT_ID")
CLIENT_SECRET = os.environ.get("SPOTIFY_CLIENT_SECRET")


auth_manager = SpotifyClientCredentials(client_id=CLIENT_ID,
                                        client_secret=CLIENT_SECRET)
sp = spotipy.Spotify(auth_manager=auth_manager)





hardnheavy_url = "https://open.spotify.com/playlist/142oZDOc1za2dkUwyonA1P?si=9477d01b58b34669"


# grab artists in my hard n heavy playlist
response = sp.playlist_tracks(hardnheavy_url, offset=0)
artists = [track["track"]["artists"][0] for track in response["items"]]
total = response["total"]

for offset in range(100, total + 1, 100): 

    response = sp.playlist_tracks(hardnheavy_url, offset=offset)
    artists += [track["track"]["artists"][0] for track in response["items"]]

artists[:5]





total, len(artists)


artist_names = [artist["name"] for artist in artists]
len(set(artist_names))


artist_uris = [artist["uri"] for artist in artists]


sp.artist(artist_uris[0])


sp.artist_albums(artist_uris[0])["items"][0].keys()






