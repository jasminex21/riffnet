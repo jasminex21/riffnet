





import pandas as pd
import numpy as np
import json
import spotipy
import re
import requests
import os
import string
import matplotlib.pyplot as plt
from datetime import datetime, timedelta
from dotenv import load_dotenv
from collections import Counter
from spotipy.oauth2 import SpotifyClientCredentials
load_dotenv()








SPOTIFY_CLIENT_ID = os.environ.get("SPOTIFY_CLIENT_ID")
SPOTIFY_CLIENT_SECRET = os.environ.get("SPOTIFY_CLIENT_SECRET")

auth_manager = SpotifyClientCredentials(client_id=SPOTIFY_CLIENT_ID,
                                        client_secret=SPOTIFY_CLIENT_SECRET)
SPOTIFY = spotipy.Spotify(auth_manager=auth_manager)


def get_playlist_artists(playlist_url, client=SPOTIFY): 

    """Returns artist information associated with each track in the provided playlist.
       Note that each artist may appear multiple times."""    

    response = client.playlist_tracks(playlist_url, offset=0)
    # each artist involved in a song with features is considered individually
    artists = [artist_dict for track in response["items"] for artist_dict in track["track"]["artists"]]
    # total number of tracks on playlist - needed to determine the number of loops (max tracks per req. is 100)
    total = response["total"]

    for offset in range(100, total + 1, 100): 

        response = client.playlist_tracks(playlist_url, offset=offset)
        artists += [artist_dict for track in response["items"] for artist_dict in track["track"]["artists"]]

    return artists


artist_dicts = get_playlist_artists("https://open.spotify.com/playlist/142oZDOc1za2dkUwyonA1P?si=f651169be5044b4d", 
                                    SPOTIFY)
artist_dicts[:5]





def get_artist_info(artist_dicts, client=SPOTIFY):

    """Returns Spotify API information associated with each unique artist, as 
       well as the artist count in the playlist. A consolidation, essentially."""

    artist_uris = set([artist["uri"] for artist in artist_dicts])
    all_artist_info = []

    for uri in artist_uris: 

        artist_info = client.artist(uri)
        artist_count = sum([1 for artist_dict in artist_dicts if artist_dict["uri"] == uri])
        artist_info["playlist_count"] = artist_count

        # album info
        albums = client.artist_albums(uri, include_groups="album")
        # number of albums
        artist_info["albums"] = albums["total"]
        album_items = albums["items"]
        # doesn't account for singles outside albums
        # don't want to count an album twice if a deluxe version was released
        # note that live versions are counted for now
        tracks_count = 0
        for album in album_items: 
             tracks_count += album["total_tracks"]
        artist_info["tracks"] = tracks_count
        
        artist_info["last_album_date"] = album_items[0]["release_date"] if album_items else None
        artist_info["first_album_date"] = album_items[-1]["release_date"] if album_items else None
    
        all_artist_info.append(artist_info)

    return all_artist_info


artist_info = get_artist_info(artist_dicts)
artist_info


def get_spotify_features(artist_info, client=SPOTIFY):

    """Generates and returns features for each artist."""

    features = []

    for artist_dict in artist_info: 

        features.append({
            "name": artist_dict["name"],
            "uri": artist_dict["uri"],
            "genres": artist_dict["genres"],
            "albums": artist_dict["albums"],
            'tracks': artist_dict["tracks"],
            'last_album_date': artist_dict["last_album_date"],
            'first_album_date': artist_dict["first_album_date"],
            "popularity": artist_dict["popularity"],
            "followers": artist_dict["followers"]["total"],
            "playlist_count": artist_dict["playlist_count"],
            "spotify_url": artist_dict["external_urls"]["spotify"],
            "image_320": artist_dict["images"][1]["url"] if artist_dict["images"] else []
        })

    return features


spotify_features = get_spotify_features(artist_info)
spotify_features


spotify_features_df = pd.DataFrame(spotify_features)
spotify_features_df


spotify_features_df[spotify_features_df['name'] == "Bad Omens"]








LASTFM_API_KEY = os.environ.get("LASTFM_API_KEY")


artist = "bad+omens"
url = f"https://ws.audioscrobbler.com/2.0/?method=artist.getinfo&artist={artist}&username={username}&api_key={LASTFM_API_KEY}&format=json"
response = requests.get(url)
omens = response.json()


artist = "dquwhdihsiuadiwjfoiwq"
username = "jasminexx18"
url = f"https://ws.audioscrobbler.com/2.0/?method=artist.getinfo&artist={artist}&username={username}&api_key={LASTFM_API_KEY}&format=json"
response = requests.get(url)
response.json()


# if nothing is found, just ignore (too much work to get MBIDs and try again, esp. given
# that Lastfm's MBIDs are sparsely populated
def get_lastfm_features(artist_names, username="jasminexx18", api_key=LASTFM_API_KEY): 

    """Grabs Lastfm features for a list of artists. Goes by artist name."""

    artist_info = []
    
    for artist_name in artist_names: 

        url = f"https://ws.audioscrobbler.com/2.0/?method=artist.getinfo&artist={artist_name}&username={username}&api_key={api_key}&format=json"

        try: 
            response = requests.get(url).json()["artist"]
            
            artist_info.append({
                "name": artist_name,
                "lastfm_listeners": response["stats"]["listeners"],
                "lastfm_playcount": response["stats"]["playcount"],
                "personal_playcount": response["stats"]["userplaycount"],
                "lastfm_tags": [tag["name"] for tag in response["tags"]["tag"]] if response["tags"]["tag"] else [],
                "summary": response["bio"]["summary"]
            })

        except Exception as e: 
            print(f"Artist {artist_name} not found on lastfm.")

    return artist_info


lastfm_features = get_lastfm_features(spotify_features_df["name"])
lastfm_features


lastfm_features_df = pd.DataFrame(lastfm_features)
lastfm_features_df


all_features = spotify_features_df.merge(lastfm_features_df, how="left", on="name")
all_features


all_features.to_csv("hardnheavy_features_prelim.csv", index=False)


features_over1 = all_features[all_features["playlist_count"] > 1]


genres = [genre.strip() for ls in features_over1["genres"] for genre in ls]
genre_counts = Counter(genres)

labels = genre_counts.keys()
sizes = genre_counts.values()

fig, ax = plt.subplots()
ax.pie(sizes, labels=labels, autopct='%1.1f%%', 
       radius=2, textprops={'size': 'smaller'})
plt.show()





TICKETMASTER_API_KEY = os.environ.get("TM_API_KEY")


# TODO: not all returned events may be correctly associated w the artist as we are searching by keyword
# We can filter by name or ID in the list of attractions for each event, it would just be inefficient, and would
# also require grabbing artist (attraction) IDs via a diff API call if names are ambiguous
def get_artist_events(artist_name, api_key=TICKETMASTER_API_KEY):

    """Returns a list of events associated with a provided artist name. Max 200."""

    artist_name_formatted = "+".join(artist_name.split()).lower()
    url = f"https://app.ticketmaster.com/discovery/v2/events.json?apikey={api_key}&classificationName=music&keyword={artist_name_formatted}&sort=date,name,asc&size=200"
    response = requests.get(url).json()

    # if artist was found
    if "_embedded" in response.keys():
        
        return response["_embedded"]["events"]

    return None


thornhill_events = get_artist_events("Thornhill")
thornhill_events


omens_events = get_artist_events("Bad Omens")
omens_events


def is_tour(event_info): 

    """Infers whether a specific event is part of an artist tour or a festival."""

    classifications = event_info.get("classifications", [])

    for c in classifications: 

        if c.get("subType", {}).get("name") == "Festival": 
            return False
            
    # if there are more than 5 performers, it's probably a festival 
    # the most openers I've ever heard of for a tour is 3, 4 incl. the headliner
    if len(event_info.get("_embedded", {}).get("attractions", [])) > 5: 
        return False

    return True


def get_artist_coperformers(artist_events):

    """Returns lists of tour and festival coperformers, and determines whether or not an artist 
       is currently on tour, about to start tour, or not on tour."""

    tour_status = "not_touring" 
    tour_date = None
    current_date = datetime.now()
    # if a tour is 30+ days in the future, it is an upcoming tour
    # any less than that and it is considered a current tour 
    future_threshold = current_date + timedelta(days=30)
    # not specifying the event at which they were coperformers as the event titles are inconsistent
    tour_coperformers = []
    festival_coperformers = []

    # group names (if the artist is touring, these tend to be the same, but not always)
    event_groups = {}
    for event in artist_events: 
        event_name = event.get("name", "").lower()
        event_name = event_name.translate(str.maketrans('', '', string.punctuation))
        event_groups.setdefault(event_name, []).append(event)

    for event_name, events_info in event_groups.items(): 

        event_is_tour = is_tour(events_info[0])
        
        # grab coperformers for each event (assuming that each event w the same title has the same attractions)
        event_attractions = events_info[0].get("_embedded", {}).get("attractions", [])
        # names of coperformers for this event
        event_attractions = [adict["name"] for adict in event_attractions if is_tour(adict)]
       
        if event_is_tour: 
            tour_coperformers += event_attractions
            if tour_date == None: 
                event_date_str = events_info[0]["dates"]["start"]["localDate"]
                tour_date = datetime.strptime(event_date_str, "%Y-%m-%d")
        else:
            festival_coperformers += event_attractions

    # determine specific tour status
    if tour_date: 
        if tour_date >= future_threshold: 
            tour_status = "upcoming_tour"
        elif current_date <= tour_date <= future_threshold:
            tour_status = "on_tour"

    # TODO: note that both coperformer sets will include the original artist
    return tour_status, tour_date, set(tour_coperformers), Counter(festival_coperformers)


tour_status, tour_date, tours, festivals = get_artist_coperformers(omens_events)
tour_status, tour_date


festivals


tour_status, tour_date, tours, festivals = get_artist_coperformers(thornhill_events)


tour_status, tour_date


tours





LASTFM_API_KEY = os.environ.get("LASTFM_API_KEY")


def get_similar_artists(artist_name, api_key=LASTFM_API_KEY):

    """Returns similar artists to a given artist, alongside similarity score (from Lastfm)"""

    artist_name_formatted = "+".join(artist_name.split()).lower()
    url = f"https://ws.audioscrobbler.com/2.0/?method=artist.getsimilar&artist={artist_name_formatted}&api_key={api_key}&format=json"
    response = requests.get(url).json().get("similarartists", {}).get("artist", [])

    return response


thornhill_similar = get_similar_artists("thornhill")
thornhill_similar





def get_spotify_artist_by_search(artist_name, client=SPOTIFY):

    return client.search(q=artist_name, type="artist").get("artists", {}).get("items", [])[0]


thornhill = get_spotify_artist_by_search("Bad Omens")
thornhill





def _get_artist_coperformers(artist_name, artist_events, get_coperformers=False):

    """Returns lists of tour and festival coperformers, and determines whether or not an artist 
       is currently on tour, about to start tour, or not on tour."""

    tour_status = "not_touring" 
    tour_date = None
    current_date = datetime.now().date()
    # if a tour is 30+ days in the future, it is an upcoming tour
    # any less than that and it is considered a current tour 
    future_threshold = current_date + timedelta(days=30)
    tour_coperformers = []
    festival_coperformers = []

    if artist_events:
        # group names (if the artist is touring, these tend to be the same, but not always)
        event_groups = {}

        for event in artist_events: 
            event_name = event.get("name", "").lower()
            event_name = event_name.translate(str.maketrans('', '', string.punctuation))
            event_groups.setdefault(event_name, []).append(event)

        for event_name, events_info in event_groups.items(): 

            event_is_tour = is_tour(events_info[0])
            
            if get_coperformers:

                # grab coperformers for each event (assuming that each event w the same title has the same coperformers)
                event_attractions = events_info[0].get("_embedded", {}).get("attractions", [])
                # names of coperformers for this event 
                # TODO :5
                event_attractions = [adict["name"] for adict in event_attractions if is_tour(adict)]
                
                # ensure that all events are relevant to the correct artist
                # (avoid grabbing things like tribute bands...whatever those are)
                if artist_name not in event_attractions:
                    continue
                    
                if event_is_tour: 
                    tour_coperformers += event_attractions
                else:
                    festival_coperformers += event_attractions

            if tour_date == None and event_is_tour: 
                event_date_str = events_info[0]["dates"]["start"]["localDate"]
                tour_date = datetime.strptime(event_date_str, "%Y-%m-%d").date()

        # determine specific tour status
        if tour_date: 
            if tour_date >= future_threshold: 
                tour_status = "upcoming_tour"
            elif current_date <= tour_date <= future_threshold:
                tour_status = "on_tour"

    # TODO: note that both coperformer sets will include the original artist
    return tour_status, tour_date, set(tour_coperformers), Counter(festival_coperformers)


#linkinpark_events = get_artist_events("Linkin Park")
tour_status, tour_date, tours, festivals = _get_artist_coperformers("Linkin Park", linkinpark_events)
tour_status, tour_date, tours, festivals


tours


import pandas as pd
import torch
from torch_geometric.data import Data
from sklearn.preprocessing import OneHotEncoder
import numpy as np
import spotipy
from spotipy.oauth2 import SpotifyClientCredentials
import pylast
import json
from datetime import datetime

# Load dependencies
sp = spotipy.Spotify(client_credentials_manager=SpotifyClientCredentials())
network = pylast.LastFMNetwork(api_key="YOUR_LASTFM_API_KEY", api_secret="YOUR_LASTFM_API_SECRET")

def jaccard_similarity(list1, list2):
    set1, set2 = set(list1), set(list2)
    return len(set1 & set2) / len(set1 | set2)

def get_spotify_features(artist_name):
    try:
        results = sp.search(q=artist_name, type="artist", limit=1)["artists"]["items"]
        if not results:
            return {"popularity": 0, "genres": [], "followers": 0}
        artist = results[0]
        return {
            "popularity": artist.get("popularity", 0),
            "genres": artist.get("genres", []),
            "followers": artist.get("followers", {}).get("total", 0)
        }
    except:
        return {"popularity": 0, "genres": [], "followers": 0}

def get_lastfm_features(artist_name):
    try:
        artist = network.get_artist(artist_name)
        return {
            "listeners": artist.get_listener_count() or 0,
            "playcount": artist.get_playcount() or 0,
            "user_playcount": artist.get_userplaycount() or 0,
            "tags": [tag.item.name for tag in artist.get_top_tags(limit=5)]
        }
    except:
        return {"listeners": 0, "playcount": 0, "user_playcount": 0, "tags": []}

def build_artist_data_and_edges(playlist_artists, all_artists):
    # From ticketmaster_tour_status_with_edges_and_status.py
    artist_data_df, tour_edge_list, tour_edge_weights, festival_edge_list, festival_edge_weights = update_artist_data_and_edges(all_artists, playlist_artists)
    
    # Collect features
    artist_data = []
    all_genres = set()
    for artist_name in all_artists:
        spotify_features = get_spotify_features(artist_name)
        lastfm_features = get_lastfm_features(artist_name)
        ticketmaster_features = artist_data_df[artist_data_df["name"] == artist_name].to_dict("records")[0]
        
        # Use Last.fm tags or Spotify genres (prefer Last.fm for specificity)
        genres = lastfm_features["tags"] if lastfm_features["tags"] else spotify_features["genres"]
        all_genres.update(genres)
        
        artist_data.append({
            "name": artist_name,
            "genres": genres,
            "popularity": spotify_features["popularity"],
            "followers": spotify_features["followers"],
            "listeners": lastfm_features["listeners"],
            "playcount": lastfm_features["playcount"],
            "user_playcount": lastfm_features["user_playcount"],
            "tour_status": ticketmaster_features["tour_status"],
            "next_event_date": ticketmaster_features["next_event_date"],
            "next_event_venue": ticketmaster_features["next_event_venue"],
            "track_count": ticketmaster_features["track_count"]
        })
    
    artist_data = pd.DataFrame(artist_data)
    
    # Encode genres
    encoder = OneHotEncoder(sparse=False)
    genre_dict = dict(zip(all_genres, encoder.fit_transform([[g] for g in all_genres])))
    
    # Create node features
    num_nodes = len(artist_data)
    feature_dim = len(all_genres) + 6  # genres, popularity, followers, listeners, playcount, user_playcount, tour_status
    x = torch.zeros((num_nodes, feature_dim), dtype=torch.float)
    tour_status_map = {"currently_touring": 1, "upcoming_tour": 1, "just_finished_touring": 0.5, "not_touring": 0}
    for idx, artist in artist_data.iterrows():
        genre_vec = sum(genre_dict[g] for g in artist["genres"]) if artist["genres"] else np.zeros(len(all_genres))
        event_year = datetime.strptime(artist["next_event_date"], "%Y-%m-%d").year / 2025.0 if artist["next_event_date"] else 0
        x[idx] = torch.tensor(list(genre_vec) + [
            artist["popularity"] / 100.0,
            artist["followers"] / max(artist_data["followers"].max(), 1),
            np.log1p(artist["listeners"]),
            np.log1p(artist["playcount"]),
            np.log1p(artist["user_playcount"]),
            tour_status_map[artist["tour_status"]]
        ], dtype=torch.float)
    
    # Create edges
    edge_list = []
    edge_weights = []
    edge_types = []
    artist_mapping = {a["name"]: i for i, a in artist_data.iterrows()}
    
    # Last.fm edges
    for artist_name in artist_mapping:
        similar = [(s.item.name, s.match) for s in network.get_artist(artist_name).get_similar(limit=5)]
        for sim_name, match in similar:
            if sim_name in artist_mapping:
                edge_list.extend([[artist_mapping[artist_name], artist_mapping[sim_name]], [artist_mapping[sim_name], artist_mapping[artist_name]]])
                edge_weights.extend([match, match])
                edge_types.extend(["lastfm", "lastfm"])
    
    # Tour and festival edges (from Ticketmaster)
    edge_list.extend(tour_edge_list)
    edge_weights.extend(tour_edge_weights)
    edge_types.extend(["tour" for _ in tour_edge_list])
    edge_list.extend(festival_edge_list)
    edge_weights.extend(festival_edge_weights)
    edge_types.extend(["festival" for _ in festival_edge_list])
    
    # Genre edges (optional)
    for i, a1 in artist_data.iterrows():
        for j, a2 in artist_data.iloc[i+1:].iterrows():
            sim = jaccard_similarity(a1["genres"], a2["genres"])
            if sim > 0.5:
                edge_list.extend([[i, j], [j, i]])
                edge_weights.extend([sim, sim])
                edge_types.extend(["genre", "genre"])
    
    edge_index = torch.tensor(edge_list, dtype=torch.long).t()
    edge_attr = torch.tensor(edge_weights, dtype=torch.float)
    
    return artist_data, Data(x=x, edge_index=edge_index, edge_attr=edge_attr, edge_types=edge_types, artist_mapping=artist_mapping)

# Example usage
if __name__ == "__main__":
    # From get_all_playlist_artists (previous responses)
    playlist_artists = pd.DataFrame([
        {"name": "Spiritbox", "id": "Z7r9jZa2iz", "track_count": 5},
        {"name": "Periphery", "id": "K8vZ917u1I7", "track_count": 3}
    ])
    
    # Get all artists (playlist + Last.fm ripples)
    all_artists = set(playlist_artists["name"])
    for artist in playlist_artists["name"]:
        similar = [sim.item.name for sim in network.get_artist(artist).get_similar(limit=5)]
        all_artists.update(similar)
    
    # Add Ticketmaster co-performers
    _, tour_edge_list, _, festival_edge_list, _ = update_artist_data_and_edges(all_artists, playlist_artists)
    for edge in tour_edge_list + festival_edge_list:
        all_artists.add(artist_data["name"][edge[0]])
        all_artists.add(artist_data["name"][edge[1]])
    
    artist_data, graph_data = build_artist_data_and_edges(playlist_artists, all_artists)
    torch.save(graph_data, "music_graph.pt")
    artist_data.to_csv("artist_data.csv")
    print("Artist Data:\n", artist_data)
    print("Graph Edges:\n", graph_data.edge_index.t().tolist())
    print("Edge Types:\n", graph_data.edge_types)


import pandas as pd
import numpy as np
import json
import spotipy
import re
import requests
import os
import string
import matplotlib.pyplot as plt
from datetime import datetime, timedelta
from dotenv import load_dotenv
from collections import Counter
from concurrent.futures import ThreadPoolExecutor, as_completed
from spotipy.oauth2 import SpotifyClientCredentials

# TODO: 
    # Parallel processing for API calls
    # Cache API responses
    # Grab on_tour info for ALL artists (currently only gets playlist artists)
    # Some venue names and tribute artists are being taken
        # Perhaps do a check and only take attractions if the attraction on hand is in the list
    # Store and structure nodes and edges

class FeatureExtractor: 

    def __init__(self, spotify_client_id, spotify_client_secret, 
                 playlist_url, lastfm_api_key, lastfm_username, discovery_api_key):
        
        auth_manager = SpotifyClientCredentials(client_id=spotify_client_id,
                                                client_secret=spotify_client_secret)
        self.SPOTIFY = spotipy.Spotify(auth_manager=auth_manager)

        self.playlist_url = playlist_url
        self.lastfm_api_key = lastfm_api_key
        self.lastfm_username = lastfm_username
        self.discovery_api_key = discovery_api_key

        # self.all_artist_features = []

    def _get_playlist_artists(self): 

        """Returns information for each unique artist in the provided playlist.
        
           e.g., for Sleep Token: 
           {'external_urls': {'spotify': 'https://open.spotify.com/artist/2n2RSaZqBuUUukhbLlpnE6'},
            'followers': {'href': None, 'total': 2512594},
            'genres': ['progressive metal', 'metalcore'],
            'href': 'https://api.spotify.com/v1/artists/2n2RSaZqBuUUukhbLlpnE6',
            'id': '2n2RSaZqBuUUukhbLlpnE6',
            'images': [...],
            'name': 'Sleep Token',
            'popularity': 85,
            'type': 'artist',
            'uri': 'spotify:artist:2n2RSaZqBuUUukhbLlpnE6',
            'playlist_count': 36}"""    

        response = self.SPOTIFY.playlist_tracks(self.playlist_url, offset=0)
        # each artist involved in a song with features is considered individually
        artists = [artist_dict for track in response["items"] for artist_dict in track["track"]["artists"]]
        # total number of tracks on playlist - needed to determine the number of loops (max tracks per req. is 100)
        total = response["total"]

        for offset in range(100, total + 1, 100): 

            response = self.SPOTIFY.playlist_tracks(self.playlist_url, offset=offset)
            artists += [artist_dict for track in response["items"] for artist_dict in track["track"]["artists"]]

        
        artist_uris = set([artist["uri"] for artist in artists])
        all_artist_info = []

        for uri in artist_uris: 

            artist_info = self.SPOTIFY.artist(uri)
            artist_count = sum([1 for artist_dict in artists if artist_dict["uri"] == uri])
            artist_info["playlist_count"] = artist_count
        
            all_artist_info.append(artist_info)
        
        print(f"_get_playlist_artists: information retrieved for {len(artist_uris)} artists.")
        return all_artist_info
    
    def _get_spotify_artist_by_search(self, artist_name):

        """Returns artist information for a given artist name. To be called for artists 
           NOT present in the starter playlist."""

        try: 
            artist_info = self.SPOTIFY.search(q=artist_name, type="artist").get("artists", {}).get("items", [])[0]
            artist_info["playlist_count"] = 0

            return artist_info
        
        except Exception as e: 
            
            print(f"_get_spotify_artist_by_search: no artist found for query {artist_name}; error {e}.")

    def _generate_discog_features(self, artist_dicts):

        all_artist_info = []

        for artist_dict in artist_dicts:

            if artist_dict:
                uri = artist_dict.get("uri", None)

                if uri:

                    # album info
                    albums = self.SPOTIFY.artist_albums(uri, include_groups="album")
                    # number of albums
                    artist_dict["albums"] = albums["total"]
                    album_items = albums["items"]
                    # doesn't account for singles outside albums
                    # don't want to count an album twice if a deluxe version was released
                    # note that live versions are counted for now
                    tracks_count = 0
                    for album in album_items: 
                        tracks_count += album["total_tracks"]
                    
                    artist_dict["tracks"] = tracks_count
                    
                    artist_dict["last_album_date"] = album_items[0]["release_date"] if album_items else None
                    artist_dict["first_album_date"] = album_items[-1]["release_date"] if album_items else None
                
                    all_artist_info.append(artist_dict)
                else: 
                    print(f"_generate_discog_features: skipping artist {artist_dict.get('name', '')}.")

        print(f"_generate_discog_features: discography features generated for {len(artist_dicts)} artists.")
        return all_artist_info
    
    def _get_spotify_features(self, artist_dicts):

        """Generates and returns features for each artist."""

        features = []

        for artist_dict in artist_dicts: 

            features.append({"name": artist_dict.get("name", ""),
                             "uri": artist_dict.get("uri", ""),
                             "genres": artist_dict.get("genres", []),
                             "albums": artist_dict.get("albums", 0),
                             'tracks': artist_dict.get("tracks", 0),
                             'last_album_date': artist_dict.get("last_album_date", ""),
                             'first_album_date': artist_dict.get("first_album_date", ""),
                             "popularity": artist_dict.get("popularity", 0),
                             "followers": artist_dict.get("followers", {}).get("total", 0),
                             "playlist_count": artist_dict.get("playlist_count", 0),
                             "spotify_url": artist_dict.get("external_urls", {}).get("spotify", ""),
                             "image_320": artist_dict.get("images", [])[1].get("url", "") if artist_dict.get("images", []) else []
            })

        print(f"_get_spotify_features: Spotify features collected for {len(features)} artists.")
        return features
    
    def _get_lastfm_features(self, artist_names): 

        """Grabs Lastfm features for a list of artist names. If the artist is not found, they are ignored."""

        artist_info = []
        
        for artist_name in artist_names: 

            url = f"https://ws.audioscrobbler.com/2.0/?method=artist.getinfo&artist={artist_name}&username={self.lastfm_username}&api_key={self.lastfm_api_key}&format=json"

            try: 
                response = requests.get(url).json()["artist"]
                
                artist_info.append({
                    "name": artist_name,
                    "lastfm_listeners": response.get("stats", {}).get("listeners", 0),
                    "lastfm_playcount": response.get("stats", {}).get("playcount", 0),
                    "personal_playcount": response.get("stats", {}).get("userplaycount", 0),
                    "lastfm_tags": [tag["name"] for tag in response.get("tags", {}).get("tag", "")] 
                                    if response.get("tags", {}).get("tag", "") else [],
                    "summary": response.get("bio", {}).get("summary", "")
                })

            except Exception as e: 
                print(f"Artist {artist_name} not found on lastfm.")

        print(f"_get_lastfm_features: Lastfm features retrieved for {len(artist_info)} artists.")
        return artist_info
    
    def _get_artist_events(self, artist_name):

        """Returns a list of FUTURE events associated with a provided artist name from the Discovery API. Max 200."""

        artist_name_formatted = "+".join(artist_name.split()).lower()
        url = f"https://app.ticketmaster.com/discovery/v2/events.json?apikey={self.discovery_api_key}&classificationName=music&keyword={artist_name_formatted}&sort=date,name,asc&size=200"
        response = requests.get(url).json()

        # if artist was found
        if "_embedded" in response.keys():
            
            return response["_embedded"]["events"]

        return None
    
    def __is_tour(self, event_info): 

        """Infers whether a specific event is part of an artist tour or a festival."""

        classifications = event_info.get("classifications", [])

        for c in classifications: 

            if c.get("subType", {}).get("name") == "Festival": 
                return False
                
        # if there are more than 5 performers, it's probably a festival 
        # the most openers I've ever heard of for a tour is 3, 4 incl. the headliner
        if len(event_info.get("_embedded", {}).get("attractions", [])) > 5: 
            return False

        return True
    
    def _get_artist_coperformers(self, artist_name, artist_events, get_coperformers=False):

        """Returns lists of tour and festival coperformers, and determines whether or not an artist 
           is currently on tour, about to start tour, or not on tour."""

        tour_status = "not_touring" 
        tour_date = None
        current_date = datetime.now().date()
        # if a tour is 30+ days in the future, it is an upcoming tour
        # any less than that and it is considered a current tour 
        future_threshold = current_date + timedelta(days=30)
        tour_coperformers = []
        festival_coperformers = []

        if artist_events:
            # group names (if the artist is touring, these tend to be the same, but not always)
            event_groups = {}

            for event in artist_events: 
                event_name = event.get("name", "").lower()
                event_name = event_name.translate(str.maketrans('', '', string.punctuation))
                event_groups.setdefault(event_name, []).append(event)

            for event_name, events_info in event_groups.items(): 

                event_is_tour = self.__is_tour(events_info[0])
                
                if get_coperformers:

                    # grab coperformers for each event (assuming that each event w the same title has the same coperformers)
                    event_attractions = events_info[0].get("_embedded", {}).get("attractions", [])
                    # names of coperformers for this event 
                    # TODO :5
                    event_attractions = [adict["name"] for adict in event_attractions[:5] if self.__is_tour(adict)]
                    
                    # ensure that all events are relevant to the correct artist
                    # (avoid grabbing things like tribute bands...whatever those are)
                    if artist_name not in event_attractions:
                        continue
                        
                    if event_is_tour: 
                        tour_coperformers += event_attractions
                    else:
                        festival_coperformers += event_attractions

                if tour_date == None and event_is_tour: 
                    event_date_str = events_info[0]["dates"]["start"]["localDate"]
                    tour_date = datetime.strptime(event_date_str, "%Y-%m-%d").date()

            # determine specific tour status
            if tour_date: 
                if tour_date >= future_threshold: 
                    tour_status = "upcoming_tour"
                elif current_date <= tour_date <= future_threshold:
                    tour_status = "on_tour"

        # TODO: note that both coperformer sets will include the original artist
        return tour_status, tour_date, set(tour_coperformers), Counter(festival_coperformers)
    
    def _get_similar_artists(self, artist_name):

        """Returns similar artists to a given artist, alongside similarity score (from Lastfm)"""

        artist_name_formatted = "+".join(artist_name.split()).lower()
        # TODO: setting limit to 2 for testing
        url = f"https://ws.audioscrobbler.com/2.0/?method=artist.getsimilar&artist={artist_name_formatted}&api_key={self.lastfm_api_key}&format=json&limit=2"
        response = requests.get(url).json().get("similarartists", {}).get("artist", [])

        return response
    
    def get_all_artist_features(self): 

        """Consolidates feature extraction pipeline across all sources."""

        playlist_artist_info = self._get_playlist_artists()
        playlist_artist_names = [artist_dict.get("name", "") for artist_dict in playlist_artist_info]

        all_artists = set(playlist_artist_names)

        similar_artists = {}
        artist_tour_status = []
        artist_coperformers = {}

        for artist_name in playlist_artist_names: 
            
            artist_similar_artists = self._get_similar_artists(artist_name)
            similar_artists[artist_name] = artist_similar_artists
            all_artists.update(artist["name"] for artist in artist_similar_artists)

            artist_events = self._get_artist_events(artist_name)
            tour_status, tour_date, tour_coperformers, festival_coperformers = self._get_artist_coperformers(artist_name, artist_events, get_coperformers=True)
            # TODO: I haven't retrieved tour info for the coperformers 
            artist_tour_status.append({
                "name": artist_name, 
                "tour_status": tour_status, 
                "tour_date": tour_date})
            artist_coperformers[artist_name] = {
                "tour_coperformers": tour_coperformers,
                "festival_coperformers": festival_coperformers
            }
            all_artists.update(tour_coperformers)
            all_artists.update(festival_coperformers.keys())

        print(f"get_all_artist_features: all_artists length {len(all_artists)}.")
        print(f"get_all_artist_features: all event information retrieved.")

        # get Spotify features 
            # for playlist artists
        playlist_artist_info = self._generate_discog_features(playlist_artist_info)
        playlist_artist_features = self._get_spotify_features(playlist_artist_info)
            # for non playlist artists
        non_playlist_artists = set(all_artists) - set(playlist_artist_names)
        non_playlist_artist_info = [self._get_spotify_artist_by_search(name) for name in non_playlist_artists]
        print(f"get_all_artist_features: completed _get_spotify_artist_by_search for {len(non_playlist_artist_info)} artists.")
        
        non_playlist_artist_info = self._generate_discog_features(non_playlist_artist_info)
        non_playlist_artist_features = self._get_spotify_features(non_playlist_artist_info)
        non_playlist_artist_events = [self._get_artist_events(artist_name=name) for name in non_playlist_artists]
        print(f"get_all_artist_features: events pulled for {len(non_playlist_artist_events)} non-playlist artists.")

        ### HERE call the other function
        non_playlist_artist_tours = []
        for non_p_artist, non_p_events in zip(non_playlist_artists, non_playlist_artist_events):

            tour_status, tour_date, _, __ = self._get_artist_coperformers(non_p_artist, non_p_events, get_coperformers=False)
            non_playlist_artist_tours.append({
                "name": non_p_artist, 
                "tour_status": tour_status, 
                "tour_date": tour_date})

        all_spotify_features = pd.DataFrame(playlist_artist_features + non_playlist_artist_features)

        # get Lastfm features
        all_lastfm_features = pd.DataFrame(self._get_lastfm_features(all_artists))

        all_features = all_spotify_features.merge(all_lastfm_features, how="left", on="name")
        all_features = all_features.merge(pd.DataFrame(artist_tour_status), how="left", on="name")

        # TODO: testing purposes
        all_features.to_csv("ALL_FEATURES.csv", index=False)
        print(f"All features written to ALL_FEATURES.csv.")
        return all_features

if __name__ == "__main__":

    # load all API keys
    load_dotenv()

    extractor = FeatureExtractor(spotify_client_id=os.environ.get("SPOTIFY_CLIENT_ID"), 
                                 spotify_client_secret=os.environ.get("SPOTIFY_CLIENT_SECRET"), 
                                 playlist_url="https://open.spotify.com/playlist/142oZDOc1za2dkUwyonA1P?si=f651169be5044b4d", 
                                 lastfm_api_key=os.environ.get("LASTFM_API_KEY"), 
                                 lastfm_username="jasminexx18", 
                                 discovery_api_key=os.environ.get("TM_API_KEY"))
    
    all_features = extractor.get_all_artist_features()
