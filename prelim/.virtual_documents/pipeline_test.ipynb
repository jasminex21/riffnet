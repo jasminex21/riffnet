





import pandas as pd
import numpy as np
import json
import spotipy
import re
import requests
import os
import matplotlib.pyplot as plt
from dotenv import load_dotenv
from collections import Counter
from spotipy.oauth2 import SpotifyClientCredentials
load_dotenv()








SPOTIFY_CLIENT_ID = os.environ.get("SPOTIFY_CLIENT_ID")
SPOTIFY_CLIENT_SECRET = os.environ.get("SPOTIFY_CLIENT_SECRET")

auth_manager = SpotifyClientCredentials(client_id=SPOTIFY_CLIENT_ID,
                                        client_secret=SPOTIFY_CLIENT_SECRET)
SPOTIFY = spotipy.Spotify(auth_manager=auth_manager)


def get_playlist_artists(playlist_url, client=SPOTIFY): 

    """Returns artist information associated with each track in the provided playlist.
       Note that each artist may appear multiple times."""    

    response = client.playlist_tracks(playlist_url, offset=0)
    # each artist involved in a song with features is considered individually
    artists = [artist_dict for track in response["items"] for artist_dict in track["track"]["artists"]]
    # total number of tracks on playlist - needed to determine the number of loops (max tracks per req. is 100)
    total = response["total"]

    for offset in range(100, total + 1, 100): 

        response = client.playlist_tracks(playlist_url, offset=offset)
        artists += [artist_dict for track in response["items"] for artist_dict in track["track"]["artists"]]

    return artists


artist_dicts = get_playlist_artists("https://open.spotify.com/playlist/142oZDOc1za2dkUwyonA1P?si=f651169be5044b4d", 
                                    SPOTIFY)
artist_dicts[:5]





def get_artist_info(artist_dicts, client=SPOTIFY):

    """Returns Spotify API information associated with each unique artist, as 
       well as the artist count in the playlist. A consolidation, essentially."""

    artist_uris = set([artist["uri"] for artist in artist_dicts])
    all_artist_info = []

    for uri in artist_uris: 

        artist_info = client.artist(uri)
        artist_count = sum([1 for artist_dict in artist_dicts if artist_dict["uri"] == uri])
        artist_info["playlist_count"] = artist_count

        # album info
        albums = client.artist_albums(uri, include_groups="album")
        # number of albums
        artist_info["albums"] = albums["total"]
        album_items = albums["items"]
        # doesn't account for singles outside albums
        # don't want to count an album twice if a deluxe version was released
        # note that live versions are counted for now
        tracks_count = 0
        for album in album_items: 
             tracks_count += album["total_tracks"]
        artist_info["tracks"] = tracks_count
        
        artist_info["last_album_date"] = album_items[0]["release_date"] if album_items else None
        artist_info["first_album_date"] = album_items[-1]["release_date"] if album_items else None
    
        all_artist_info.append(artist_info)

    return all_artist_info


artist_info = get_artist_info(artist_dicts)
artist_info


def get_spotify_features(artist_info, client=SPOTIFY):

    """Generates and returns features for each artist."""

    features = []

    for artist_dict in artist_info: 

        features.append({
            "name": artist_dict["name"],
            "uri": artist_dict["uri"],
            "genres": artist_dict["genres"],
            "albums": artist_dict["albums"],
            'tracks': artist_dict["tracks"],
            'last_album_date': artist_dict["last_album_date"],
            'first_album_date': artist_dict["first_album_date"],
            "popularity": artist_dict["popularity"],
            "followers": artist_dict["followers"]["total"],
            "playlist_count": artist_dict["playlist_count"],
            "spotify_url": artist_dict["external_urls"]["spotify"],
            "image_320": artist_dict["images"][1]["url"] if artist_dict["images"] else []
        })

    return features


spotify_features = get_spotify_features(artist_info)
spotify_features


spotify_features_df = pd.DataFrame(spotify_features)
spotify_features_df


spotify_features_df[spotify_features_df['name'] == "Bad Omens"]








LASTFM_API_KEY = os.environ.get("LASTFM_API_KEY")


artist = "bad+omens"
url = f"https://ws.audioscrobbler.com/2.0/?method=artist.getinfo&artist={artist}&username={username}&api_key={LASTFM_API_KEY}&format=json"
response = requests.get(url)
omens = response.json()


artist = "dquwhdihsiuadiwjfoiwq"
username = "jasminexx18"
url = f"https://ws.audioscrobbler.com/2.0/?method=artist.getinfo&artist={artist}&username={username}&api_key={LASTFM_API_KEY}&format=json"
response = requests.get(url)
response.json()


# if nothing is found, just ignore (too much work to get MBIDs and try again, esp. given
# that Lastfm's MBIDs are sparsely populated
def get_lastfm_features(artist_names, username="jasminexx18", api_key=LASTFM_API_KEY): 

    """Grabs Lastfm features for a list of artists. Goes by artist name."""

    artist_info = []
    
    for artist_name in artist_names: 

        url = f"https://ws.audioscrobbler.com/2.0/?method=artist.getinfo&artist={artist_name}&username={username}&api_key={api_key}&format=json"

        try: 
            response = requests.get(url).json()["artist"]
            
            artist_info.append({
                "name": artist_name,
                "lastfm_listeners": response["stats"]["listeners"],
                "lastfm_playcount": response["stats"]["playcount"],
                "personal_playcount": response["stats"]["userplaycount"],
                "lastfm_tags": [tag["name"] for tag in response["tags"]["tag"]] if response["tags"]["tag"] else [],
                "summary": response["bio"]["summary"]
            })

        except Exception as e: 
            print(f"Artist {artist_name} not found on lastfm.")

    return artist_info


lastfm_features = get_lastfm_features(spotify_features_df["name"])
lastfm_features


lastfm_features_df = pd.DataFrame(lastfm_features)
lastfm_features_df


all_features = spotify_features_df.merge(lastfm_features_df, how="left", on="name")
all_features


all_features.to_csv("hardnheavy_features_prelim.csv", index=False)


features_over1 = all_features[all_features["playlist_count"] > 1]


genres = [genre.strip() for ls in features_over1["genres"] for genre in ls]
genre_counts = Counter(genres)

labels = genre_counts.keys()
sizes = genre_counts.values()

fig, ax = plt.subplots()
ax.pie(sizes, labels=labels, autopct='%1.1f%%', 
       radius=2, textprops={'size': 'smaller'})
plt.show()





TICKETMASTER_API_KEY = os.environ.get("TM_API_KEY")


# TODO: not all returned events may be correctly associated w the artist as we are searching by keyword
# We can filter by name or ID in the list of attractions for each event, it would just be inefficient, and would
# also require grabbing artist (attraction) IDs via a diff API call if names are ambiguous
def get_artist_events(artist_name, api_key=TICKETMASTER_API_KEY):

    """Returns a list of events associated with a provided artist name. Max 200."""

    artist_name_formatted = "+".join(artist_name.split()).lower()
    url = f"https://app.ticketmaster.com/discovery/v2/events.json?apikey={api_key}&classificationName=music&keyword={artist_name_formatted}&sort=date,name,asc&size=200"
    response = requests.get(url).json()

    # if artist was found
    if "_embedded" in response.keys():
        
        return response["_embedded"]["events"]

    return None


thornhill_events = 



